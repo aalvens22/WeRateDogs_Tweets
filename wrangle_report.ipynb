{
 "cells": [
  {
   "cell_type": "markdown",
   "metadata": {},
   "source": [
    "# Data Wrangling"
   ]
  },
  {
   "cell_type": "markdown",
   "metadata": {},
   "source": [
    "## Table of Contents\n",
    "1. Introduction\n",
    "2. Gathering Data\n",
    "3. Assessing Data\n",
    "4. Cleaning Data\n",
    "5. Storing Data"
   ]
  },
  {
   "cell_type": "markdown",
   "metadata": {},
   "source": [
    "### Introduction\n",
    "In this data wrangling project, I will first collect 3 different datasets that are related to WeRateDogs Twitter data. Then I will assess the data via both visual and programming assessment, and clean the data."
   ]
  },
  {
   "cell_type": "markdown",
   "metadata": {},
   "source": [
    "### Gathering Data\n",
    "The first dataset is The WeRateDogs Twitter archive, i imported a csv file called 'twitter-archive-enhanced.csv'. I downloaded the  get tweet image predictions data provided in udacity classroom since i could twitter didn't grant me access to their API. The last dataset I gathered was additional data from Twitter API. I extracted the tweet_id, favorite_count and retweet_count from the third dataset."
   ]
  },
  {
   "cell_type": "markdown",
   "metadata": {},
   "source": [
    "### Assessing Data\n",
    "Firstly,I asssesed these data visually, both injupyter notebook and in Excel, and then programming assessment to find out the following data quality and tidiness issues.\n",
    "\n",
    "#### Quality\n",
    "##### Enhanced Twitter Archive:\n",
    "1. Tweet_id column dtype is integer.\n",
    "2. Timestamp column dtype is not in datetime.\n",
    "3. There are 78 replies to be remoed from the dataset.\n",
    "4. There are 181 retweets to be removed from the dataset.\n",
    "5. Not every tweet has identified dog stages.\n",
    "6. Wrong ratings i.e. the numerator and denominator ratings were given in different columns\n",
    "7. Capitalize first letters in name column\n",
    "8. Identify rating_denominator which is less than 10 and change to 10\n",
    "\n",
    "##### Image Table\n",
    "1. Tweet_id column dtype is int.\n",
    "2. More than one predictions in for dogs in one single tweet.\n",
    "3. There are non-dog predictions.\n",
    "\n",
    "##### Twitter Extra Data\n",
    "1. Wrong id column name\n",
    "2. Count columns have object type instead of integer type.\n",
    "3. Wrong id dtype format, integer instead of string\n",
    "\n",
    "##### All three tables\n",
    "1. Img_num is in wrong format, integer instead of string"
   ]
  },
  {
   "cell_type": "markdown",
   "metadata": {},
   "source": [
    "#### Tidiness\n",
    "##### Enhanced Twitter Archive\n",
    "1. Dog stages are not in one column.\n",
    "2. There are 2 columns (numerator and denominator) related to rating, should be combined\n",
    "\n",
    "##### All three tables\n",
    "1. The three tables are not merged"
   ]
  },
  {
   "cell_type": "markdown",
   "metadata": {},
   "source": [
    "### Cleaning Data\n",
    "I used the basic Define-Code-Test methodology to clean all datssets. After cleaning the datasets, I merged the three datasets into a master dataset and saved it as twitter_archive_master.csv.\n",
    "\n",
    "After saving the datasets into twitter_archive_master.csv, the dataset will be analysed and insights will be derived from various visuals that will be plotted."
   ]
  },
  {
   "cell_type": "code",
   "execution_count": 2,
   "metadata": {},
   "outputs": [
    {
     "name": "stderr",
     "output_type": "stream",
     "text": [
      "[NbConvertApp] Converting notebook wrangle_report.ipynb to html\n",
      "[NbConvertApp] Writing 283442 bytes to wrangle_report.html\n"
     ]
    }
   ],
   "source": [
    "!jupyter nbconvert --to html wrangle_report.ipynb"
   ]
  },
  {
   "cell_type": "code",
   "execution_count": null,
   "metadata": {},
   "outputs": [],
   "source": []
  }
 ],
 "metadata": {
  "kernelspec": {
   "display_name": "Python 3",
   "language": "python",
   "name": "python3"
  },
  "language_info": {
   "codemirror_mode": {
    "name": "ipython",
    "version": 3
   },
   "file_extension": ".py",
   "mimetype": "text/x-python",
   "name": "python",
   "nbconvert_exporter": "python",
   "pygments_lexer": "ipython3",
   "version": "3.7.6"
  }
 },
 "nbformat": 4,
 "nbformat_minor": 4
}
